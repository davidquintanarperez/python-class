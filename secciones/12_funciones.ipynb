{
 "cells": [
  {
   "cell_type": "markdown",
   "metadata": {},
   "source": [
    "# Funciones\n",
    "> David Quintanar Pérez"
   ]
  },
  {
   "cell_type": "code",
   "execution_count": null,
   "metadata": {},
   "outputs": [],
   "source": [
    "def saludar():\n",
    "    print(\"Hola Mundo!\")"
   ]
  },
  {
   "cell_type": "code",
   "execution_count": null,
   "metadata": {},
   "outputs": [],
   "source": [
    "type(saludar)"
   ]
  },
  {
   "cell_type": "code",
   "execution_count": null,
   "metadata": {},
   "outputs": [],
   "source": [
    "saludar()"
   ]
  },
  {
   "cell_type": "markdown",
   "metadata": {},
   "source": [
    "## Con argumentos"
   ]
  },
  {
   "cell_type": "code",
   "execution_count": null,
   "metadata": {},
   "outputs": [],
   "source": [
    "def saludar_personalizado(nombre):\n",
    "    print(\"Hola {}!\".format(nombre))\n",
    "    \n",
    "saludar_personalizado(\"David\")"
   ]
  },
  {
   "cell_type": "code",
   "execution_count": null,
   "metadata": {},
   "outputs": [],
   "source": [
    "def saludar_personalizado(nombre=\"Mundo\"):\n",
    "    print(\"Hola {}!\".format(nombre))\n",
    "    \n",
    "saludar_personalizado()"
   ]
  },
  {
   "cell_type": "code",
   "execution_count": null,
   "metadata": {},
   "outputs": [],
   "source": [
    "def saludar_personalizado(nombre=\"Mundo\"):\n",
    "    print(\"Hola {}!\".format(nombre))\n",
    "    \n",
    "saludar_personalizado(nombre=\"David\")"
   ]
  },
  {
   "cell_type": "markdown",
   "metadata": {},
   "source": [
    "## Devolver un valor"
   ]
  },
  {
   "cell_type": "code",
   "execution_count": null,
   "metadata": {},
   "outputs": [],
   "source": [
    "def suma(numero_uno, numero_dos):\n",
    "    suma_numeros = numero_uno + numero_dos\n",
    "    return suma_numeros\n",
    "\n",
    "suma(5,5)"
   ]
  },
  {
   "cell_type": "code",
   "execution_count": null,
   "metadata": {},
   "outputs": [],
   "source": [
    "def suma(numero_uno, numero_dos):\n",
    "    return numero_uno + numero_dos\n",
    "\n",
    "suma(5,5)"
   ]
  },
  {
   "cell_type": "code",
   "execution_count": null,
   "metadata": {},
   "outputs": [],
   "source": [
    "def suma(numero_uno, numero_dos):\n",
    "    return suma_numeros\n",
    "    suma_numeros = numero_uno + numero_dos\n",
    "\n",
    "suma(5,5)"
   ]
  },
  {
   "cell_type": "code",
   "execution_count": null,
   "metadata": {},
   "outputs": [],
   "source": [
    "def suma(numero_uno, numero_dos):\n",
    "    suma_numeros = numero_uno + numero_dos\n",
    "    return suma_numeros\n",
    "\n",
    "suma_retorno = suma(5,5)\n",
    "suma_retorno"
   ]
  },
  {
   "cell_type": "code",
   "execution_count": null,
   "metadata": {},
   "outputs": [],
   "source": [
    "def suma(numero_uno, numero_dos):\n",
    "    suma_numeros = numero_uno + numero_dos\n",
    "    resta_numeros = numero_uno - numero_dos\n",
    "    return suma_numeros, resta_numeros\n",
    "\n",
    "suma(5,5)"
   ]
  },
  {
   "cell_type": "code",
   "execution_count": null,
   "metadata": {},
   "outputs": [],
   "source": [
    "def suma(numero_uno, numero_dos):\n",
    "    suma_numeros = numero_uno + numero_dos\n",
    "    resta_numeros = numero_uno - numero_dos\n",
    "    return suma_numeros, resta_numeros\n",
    "\n",
    "suma_retorno, resta_retorno = suma(5,5)\n",
    "print(suma_retorno, resta_retorno)"
   ]
  },
  {
   "cell_type": "markdown",
   "metadata": {},
   "source": [
    "## lambda\n",
    "nombre_funcion_lambda = lambda input: output"
   ]
  },
  {
   "cell_type": "code",
   "execution_count": null,
   "metadata": {},
   "outputs": [],
   "source": [
    "suma_lambda = lambda numero_uno, numero_dos: numero_uno + numero_dos"
   ]
  },
  {
   "cell_type": "code",
   "execution_count": null,
   "metadata": {},
   "outputs": [],
   "source": [
    "suma_lambda(5,5)"
   ]
  },
  {
   "cell_type": "code",
   "execution_count": null,
   "metadata": {},
   "outputs": [],
   "source": []
  }
 ],
 "metadata": {
  "kernelspec": {
   "display_name": "Python 3",
   "language": "python",
   "name": "python3"
  },
  "language_info": {
   "codemirror_mode": {
    "name": "ipython",
    "version": 3
   },
   "file_extension": ".py",
   "mimetype": "text/x-python",
   "name": "python",
   "nbconvert_exporter": "python",
   "pygments_lexer": "ipython3",
   "version": "3.8.5"
  }
 },
 "nbformat": 4,
 "nbformat_minor": 4
}
