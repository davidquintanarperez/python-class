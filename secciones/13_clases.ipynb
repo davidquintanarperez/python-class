{
 "cells": [
  {
   "cell_type": "markdown",
   "metadata": {},
   "source": [
    "# Clases\n",
    "> David Quintanar Pérez"
   ]
  },
  {
   "cell_type": "code",
   "execution_count": null,
   "metadata": {},
   "outputs": [],
   "source": [
    "class Mensaje:\n",
    "    def __init__(self, saludo):\n",
    "        self.__despedida = \"Bye Bye\"\n",
    "        self.saludo = saludo\n",
    "        print(\"Inicializado\")\n",
    "        \n",
    "    def __repr__(self):\n",
    "        return self.describir()\n",
    "    \n",
    "    def describir(self):\n",
    "        descripcion = \"\"\"\n",
    "        Esta es una descripcion desde el metodo describir que se enviara a __repr__\n",
    "        \"\"\"\n",
    "        return descripcion\n",
    "    \n",
    "    def saludar(self, nombre=\"Mundo\"):\n",
    "        print(\"{} {}!\".format(self.saludo, nombre))\n",
    "        self.__pregunta()\n",
    "        \n",
    "    def __pregunta(self):\n",
    "        print(\"Como estas?\")\n",
    "        \n",
    "    def __del__(self): \n",
    "        print(self.__despedida)"
   ]
  },
  {
   "cell_type": "code",
   "execution_count": null,
   "metadata": {},
   "outputs": [],
   "source": [
    "mensajito = Mensaje(saludo=\"Hola\")"
   ]
  },
  {
   "cell_type": "code",
   "execution_count": null,
   "metadata": {},
   "outputs": [],
   "source": [
    "mensajito"
   ]
  },
  {
   "cell_type": "code",
   "execution_count": null,
   "metadata": {},
   "outputs": [],
   "source": [
    "mensajito.saludar()"
   ]
  },
  {
   "cell_type": "code",
   "execution_count": null,
   "metadata": {},
   "outputs": [],
   "source": [
    "mensajito.saludar(nombre=\"David\")"
   ]
  },
  {
   "cell_type": "code",
   "execution_count": null,
   "metadata": {},
   "outputs": [],
   "source": [
    "# mensajito.pegunta()\n",
    "mensajito.__pegunta()"
   ]
  },
  {
   "cell_type": "code",
   "execution_count": null,
   "metadata": {},
   "outputs": [],
   "source": [
    "mensaje_dos = Mensaje(saludo=\"Hola\")\n",
    "del mensaje_dos"
   ]
  },
  {
   "cell_type": "code",
   "execution_count": null,
   "metadata": {},
   "outputs": [],
   "source": [
    "class Correo(Mensaje):\n",
    "    \n",
    "    def __init__(self, *args, **kwargs):\n",
    "        \"\"\"\n",
    "        *args **kwargs son los argumentos que tienen keywords, es decir que tienen nombre y los argumentos posicionales, los args.\n",
    "        Los asteriscos son simplemente una expansión.\n",
    "        \"\"\"\n",
    "        super().__init__(*args, **kwargs)\n",
    "        \n",
    "    def describir(self):\n",
    "        descripcion = \"\"\"\n",
    "        Clase Correo\n",
    "        \"\"\"\n",
    "        return descripcion\n",
    "    \n",
    "    def cambiar_saludo(self, saludo_nuevo=\"Hola\"):\n",
    "        self.saludo = saludo_nuevo"
   ]
  },
  {
   "cell_type": "code",
   "execution_count": null,
   "metadata": {},
   "outputs": [],
   "source": [
    "correito = Correo(saludo=\"Hola\")"
   ]
  },
  {
   "cell_type": "code",
   "execution_count": null,
   "metadata": {},
   "outputs": [],
   "source": [
    "correito"
   ]
  },
  {
   "cell_type": "code",
   "execution_count": null,
   "metadata": {},
   "outputs": [],
   "source": [
    "correito.cambiar_saludo(saludo_nuevo=\"Que ondita\")"
   ]
  },
  {
   "cell_type": "code",
   "execution_count": null,
   "metadata": {},
   "outputs": [],
   "source": [
    "correito.saludo"
   ]
  },
  {
   "cell_type": "code",
   "execution_count": null,
   "metadata": {},
   "outputs": [],
   "source": [
    "correito.saludar()"
   ]
  },
  {
   "cell_type": "code",
   "execution_count": null,
   "metadata": {},
   "outputs": [],
   "source": []
  }
 ],
 "metadata": {
  "kernelspec": {
   "display_name": "Python 3",
   "language": "python",
   "name": "python3"
  },
  "language_info": {
   "codemirror_mode": {
    "name": "ipython",
    "version": 3
   },
   "file_extension": ".py",
   "mimetype": "text/x-python",
   "name": "python",
   "nbconvert_exporter": "python",
   "pygments_lexer": "ipython3",
   "version": "3.8.5"
  }
 },
 "nbformat": 4,
 "nbformat_minor": 4
}
