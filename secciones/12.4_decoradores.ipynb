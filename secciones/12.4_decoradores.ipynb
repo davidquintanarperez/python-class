{
 "cells": [
  {
   "cell_type": "markdown",
   "metadata": {},
   "source": [
    "# Decoradores\n",
    "> David Quintanar Pérez\n",
    ">\n",
    "> Los decoradores son una función que envuelve a otra función para modificar o extender su comportamiento.\n",
    ">\n",
    "> En Python las funciones son ciudadanos de primera clase, first class citizen, esto significan que las funciones pueden recibir funciones como parámetros y pueden regresar funciones. Los decoradores utilizan este concepto de manera fundamental.\n",
    ">\n",
    "> <img src=\"https://files.realpython.com/media/Primer-on-Python-Decorators_Watermarked.d0da542fa3fc.jpg\" alt=\"Decoradores imagen\" width=\"500\" height=\"auto\">"
   ]
  },
  {
   "cell_type": "code",
   "execution_count": null,
   "metadata": {},
   "outputs": [],
   "source": [
    "def llamar_mascota(func):\n",
    "    nombres_perros = (\"jacob\", \"ritchie\", \"piglet\", \"blacky\", \"boopi\", \"rocket\")\n",
    "\n",
    "    def wrapper():\n",
    "        nombre_mascota = input(\"A que mascota llamo?\")\n",
    "         \n",
    "        if nombre_mascota in nombres_perros:\n",
    "            func()\n",
    "        else:\n",
    "            print(\"No tienes macotas con ese nombre e.e\")\n",
    "            \n",
    "    return wrapper\n",
    "\n",
    "@llamar_mascota\n",
    "def llamar_amigo():\n",
    "    print(\"Ya viene\")"
   ]
  },
  {
   "cell_type": "code",
   "execution_count": null,
   "metadata": {},
   "outputs": [],
   "source": [
    "llamar_amigo()"
   ]
  },
  {
   "cell_type": "code",
   "execution_count": null,
   "metadata": {},
   "outputs": [],
   "source": [
    "def upper(func):\n",
    "    def wrapper(*args, **kwargs):\n",
    "        upper_name = func(*args, **kwargs)\n",
    "        \n",
    "        return upper_name.upper()\n",
    "    \n",
    "    return wrapper\n",
    "\n",
    "@upper\n",
    "def say_hi(name):\n",
    "    return \"Hi, {}\".format(name)"
   ]
  },
  {
   "cell_type": "code",
   "execution_count": null,
   "metadata": {},
   "outputs": [],
   "source": [
    "print(say_hi(\"david\"))"
   ]
  },
  {
   "cell_type": "code",
   "execution_count": null,
   "metadata": {},
   "outputs": [],
   "source": []
  }
 ],
 "metadata": {
  "kernelspec": {
   "display_name": "Python 3",
   "language": "python",
   "name": "python3"
  },
  "language_info": {
   "codemirror_mode": {
    "name": "ipython",
    "version": 3
   },
   "file_extension": ".py",
   "mimetype": "text/x-python",
   "name": "python",
   "nbconvert_exporter": "python",
   "pygments_lexer": "ipython3",
   "version": "3.8.5"
  }
 },
 "nbformat": 4,
 "nbformat_minor": 4
}
