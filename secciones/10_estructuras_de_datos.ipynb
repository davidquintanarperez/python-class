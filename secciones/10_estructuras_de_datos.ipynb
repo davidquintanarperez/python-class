{
 "cells": [
  {
   "cell_type": "markdown",
   "metadata": {},
   "source": [
    "# Estructuras de datos\n",
    "> David Quintanar Pérez"
   ]
  },
  {
   "cell_type": "markdown",
   "metadata": {},
   "source": [
    "## Listas\n",
    "Los objetos tipo list son colecciones ordenadas de objetos, los cuales son indexables numéricamente y son mutables."
   ]
  },
  {
   "cell_type": "code",
   "execution_count": null,
   "metadata": {},
   "outputs": [],
   "source": [
    "juegos_zelda = [\"ocarina of time\", \"majora's mask\", \"breath of the wild\", \"twilight princess\", \"wind waker\", \"skyward sword\"]\n",
    "juegos_mario = [\"super mario 64\", \"super mario sunshine\", \"super mario galaxy\", \"paper mario\", \"super mario world\"]"
   ]
  },
  {
   "cell_type": "markdown",
   "metadata": {},
   "source": [
    "> ### Acceder a los elementos dentro de la lista [inicio:final-1:orden]"
   ]
  },
  {
   "cell_type": "code",
   "execution_count": null,
   "metadata": {},
   "outputs": [],
   "source": [
    "\"\"\"\n",
    "[0]\n",
    "[0:3]\n",
    "[1:5:2]\n",
    "[::2]\n",
    "[::-1]\n",
    "\"\"\"\n",
    "juegos_zelda[0]"
   ]
  },
  {
   "cell_type": "markdown",
   "metadata": {},
   "source": [
    "> ### Número de elementos en una lista"
   ]
  },
  {
   "cell_type": "code",
   "execution_count": null,
   "metadata": {},
   "outputs": [],
   "source": [
    "len(juegos_zelda)"
   ]
  },
  {
   "cell_type": "code",
   "execution_count": null,
   "metadata": {},
   "outputs": [],
   "source": [
    "len(juegos_mario)"
   ]
  },
  {
   "cell_type": "markdown",
   "metadata": {},
   "source": [
    "> ### Operaciones con Listas\n",
    "> #### &nbsp;&nbsp;&nbsp;&nbsp;Repetir o multiplicar listas con *"
   ]
  },
  {
   "cell_type": "code",
   "execution_count": null,
   "metadata": {},
   "outputs": [],
   "source": [
    "juegos_zelda * 2"
   ]
  },
  {
   "cell_type": "markdown",
   "metadata": {},
   "source": [
    "> #### &nbsp;&nbsp;&nbsp;&nbsp;Concatenar con +"
   ]
  },
  {
   "cell_type": "code",
   "execution_count": null,
   "metadata": {},
   "outputs": [],
   "source": [
    "juegos_nintendo = juegos_mario + juegos_zelda\n",
    "juegos_nintendo"
   ]
  },
  {
   "cell_type": "markdown",
   "metadata": {},
   "source": [
    "> #### &nbsp;&nbsp;&nbsp;&nbsp;Agregar elementos"
   ]
  },
  {
   "cell_type": "code",
   "execution_count": null,
   "metadata": {},
   "outputs": [],
   "source": [
    "juegos_mario.append(\"mario kart\")\n",
    "juegos_mario"
   ]
  },
  {
   "cell_type": "markdown",
   "metadata": {},
   "source": [
    "> #### &nbsp;&nbsp;&nbsp;&nbsp;Modificar elementos"
   ]
  },
  {
   "cell_type": "code",
   "execution_count": null,
   "metadata": {},
   "outputs": [],
   "source": [
    "# Uno a la vez [posicion]\n",
    "juegos_mario[-2] += \": the origami king\"\n",
    "juegos_mario"
   ]
  },
  {
   "cell_type": "code",
   "execution_count": null,
   "metadata": {},
   "outputs": [],
   "source": [
    "# Múltiples [:]\n",
    "juegos_super_smash_bros = [\"nintendo 64\", \"melee\", \"brawl\", \"ultimate\"]\n",
    "len_juegos_nintendo = len(juegos_nintendo)"
   ]
  },
  {
   "cell_type": "code",
   "execution_count": null,
   "metadata": {},
   "outputs": [],
   "source": [
    "juegos_nintendo[len_juegos_nintendo::] = juegos_super_smash_bros\n",
    "juegos_nintendo"
   ]
  },
  {
   "cell_type": "markdown",
   "metadata": {},
   "source": [
    "> #### &nbsp;&nbsp;&nbsp;&nbsp;Saber si existe un elemento"
   ]
  },
  {
   "cell_type": "code",
   "execution_count": null,
   "metadata": {},
   "outputs": [],
   "source": [
    "\"ocarina of time\" in juegos_nintendo"
   ]
  },
  {
   "cell_type": "code",
   "execution_count": null,
   "metadata": {},
   "outputs": [],
   "source": [
    "\"Ocarina of time\" in juegos_nintendo"
   ]
  },
  {
   "cell_type": "markdown",
   "metadata": {},
   "source": [
    "> #### &nbsp;&nbsp;&nbsp;&nbsp;Saber la posición de un elemento"
   ]
  },
  {
   "cell_type": "code",
   "execution_count": null,
   "metadata": {},
   "outputs": [],
   "source": [
    "juegos_nintendo.index(\"ocarina of time\")"
   ]
  },
  {
   "cell_type": "code",
   "execution_count": null,
   "metadata": {},
   "outputs": [],
   "source": [
    "juegos_nintendo[5]"
   ]
  },
  {
   "cell_type": "markdown",
   "metadata": {},
   "source": [
    "> #### &nbsp;&nbsp;&nbsp;&nbsp;Eliminar un elemento"
   ]
  },
  {
   "cell_type": "code",
   "execution_count": null,
   "metadata": {},
   "outputs": [],
   "source": [
    "juegos_nintendo.pop(juegos_nintendo.index(\"paper mario\"))\n",
    "\"paper mario\" in juegos_nintendo"
   ]
  },
  {
   "cell_type": "markdown",
   "metadata": {},
   "source": [
    "> #### &nbsp;&nbsp;&nbsp;&nbsp;Ordenar elementos"
   ]
  },
  {
   "cell_type": "code",
   "execution_count": null,
   "metadata": {},
   "outputs": [],
   "source": [
    "juegos_nintendo.sort()\n",
    "juegos_nintendo"
   ]
  },
  {
   "cell_type": "markdown",
   "metadata": {},
   "source": [
    "> #### &nbsp;&nbsp;&nbsp;&nbsp;Generar listas numéricas"
   ]
  },
  {
   "cell_type": "code",
   "execution_count": null,
   "metadata": {},
   "outputs": [],
   "source": [
    "list(range(10))"
   ]
  },
  {
   "cell_type": "markdown",
   "metadata": {},
   "source": [
    "> #### &nbsp;&nbsp;&nbsp;&nbsp;Unir elementos (convertir a strings)"
   ]
  },
  {
   "cell_type": "code",
   "execution_count": null,
   "metadata": {},
   "outputs": [],
   "source": [
    "str_juegos_nintendo = \",\".join(juegos_nintendo)\n",
    "str_juegos_nintendo"
   ]
  },
  {
   "cell_type": "code",
   "execution_count": null,
   "metadata": {},
   "outputs": [],
   "source": [
    "type(str_juegos_nintendo)"
   ]
  },
  {
   "cell_type": "markdown",
   "metadata": {},
   "source": [
    "## Tuplas\n",
    "Los objetos tipo tuple son colecciones ordenadas de objetos, los cuales son indexables numéricamente e inmutables."
   ]
  },
  {
   "cell_type": "code",
   "execution_count": null,
   "metadata": {},
   "outputs": [],
   "source": [
    "nombres_perros = (\"jacob\", \"ritchie\", \"piglet\", \"blacky\", \"boopi\", \"rocket\")\n",
    "nombres_perros"
   ]
  },
  {
   "cell_type": "code",
   "execution_count": null,
   "metadata": {},
   "outputs": [],
   "source": [
    "nombres_perros[0] = \"jacov\""
   ]
  },
  {
   "cell_type": "markdown",
   "metadata": {},
   "source": [
    "## Diccionarios\n",
    "El tipo dict es una colección mutable de pares <clave>:<valor>, el cual es indexable mediante la clave de cada elemento."
   ]
  },
  {
   "cell_type": "code",
   "execution_count": null,
   "metadata": {},
   "outputs": [],
   "source": [
    "compras_amazon = {\n",
    "    \"echo dot\": 1500,\n",
    "    \"echo show\": 900,\n",
    "    \"kindle\": 1000\n",
    "}"
   ]
  },
  {
   "cell_type": "code",
   "execution_count": null,
   "metadata": {},
   "outputs": [],
   "source": [
    "compras_amazon.keys()"
   ]
  },
  {
   "cell_type": "code",
   "execution_count": null,
   "metadata": {},
   "outputs": [],
   "source": [
    "compras_amazon.values()"
   ]
  },
  {
   "cell_type": "code",
   "execution_count": null,
   "metadata": {},
   "outputs": [],
   "source": [
    "list(compras_amazon.keys())[0]"
   ]
  },
  {
   "cell_type": "code",
   "execution_count": null,
   "metadata": {},
   "outputs": [],
   "source": [
    "compras_amazon[\"echo dot\"]"
   ]
  },
  {
   "cell_type": "code",
   "execution_count": null,
   "metadata": {},
   "outputs": [],
   "source": [
    "\"echo dot\" in compras_amazon"
   ]
  },
  {
   "cell_type": "code",
   "execution_count": null,
   "metadata": {},
   "outputs": [],
   "source": [
    "dic_juegos_nintendo = {\n",
    "    \"zelda\": juegos_zelda,\n",
    "    \"mario\": juegos_mario,\n",
    "    \"super smash bros\": juegos_super_smash_bros\n",
    "}\n",
    "dic_juegos_nintendo"
   ]
  },
  {
   "cell_type": "markdown",
   "metadata": {},
   "source": [
    "## Sets\n",
    "Los elementos contenidos en un objeto tipo set deben ser de tipo inmutable."
   ]
  },
  {
   "cell_type": "code",
   "execution_count": null,
   "metadata": {},
   "outputs": [],
   "source": [
    "registro = {1, 'dos', 3.0, '4'}\n",
    "registro"
   ]
  },
  {
   "cell_type": "code",
   "execution_count": null,
   "metadata": {},
   "outputs": [],
   "source": [
    "registro.add(False)\n",
    "registro"
   ]
  },
  {
   "cell_type": "code",
   "execution_count": null,
   "metadata": {},
   "outputs": [],
   "source": [
    "registro.remove(False)\n",
    "registro"
   ]
  },
  {
   "cell_type": "code",
   "execution_count": null,
   "metadata": {},
   "outputs": [],
   "source": [
    "registro.discard(3)\n",
    "registro"
   ]
  },
  {
   "cell_type": "code",
   "execution_count": null,
   "metadata": {},
   "outputs": [],
   "source": [
    "registro.pop()"
   ]
  },
  {
   "cell_type": "code",
   "execution_count": null,
   "metadata": {},
   "outputs": [],
   "source": [
    "registro.pop()\n",
    "registro.pop()\n",
    "registro.pop()"
   ]
  },
  {
   "cell_type": "code",
   "execution_count": null,
   "metadata": {},
   "outputs": [],
   "source": [
    "registro = {1, 'dos', 3.0, '4'}\n",
    "segundo_registro = registro.copy()\n",
    "segundo_registro"
   ]
  },
  {
   "cell_type": "code",
   "execution_count": null,
   "metadata": {},
   "outputs": [],
   "source": [
    "registro == segundo_registro"
   ]
  },
  {
   "cell_type": "code",
   "execution_count": null,
   "metadata": {},
   "outputs": [],
   "source": [
    "registro is segundo_registro"
   ]
  },
  {
   "cell_type": "code",
   "execution_count": null,
   "metadata": {},
   "outputs": [],
   "source": [
    "registro.clear()\n",
    "registro"
   ]
  },
  {
   "cell_type": "markdown",
   "metadata": {},
   "source": [
    "## Counter"
   ]
  },
  {
   "cell_type": "code",
   "execution_count": null,
   "metadata": {},
   "outputs": [],
   "source": [
    "from collections import Counter\n",
    "\n",
    "\n",
    "votos = [\n",
    "    'the legend of zelda ocarina of time',\n",
    "    'super smash bros',\n",
    "    'donkey kong 64',\n",
    "    'super mario 64',\n",
    "    'super smash bros',\n",
    "    'super mario 64',\n",
    "    'super smash bros',\n",
    "    'super mario 64',\n",
    "    'the legend of zelda ocarina of time',\n",
    "    'the legend of zelda ocarina of time',\n",
    "    'super mario 64',\n",
    "    'the legend of zelda ocarina of time',\n",
    "    'Kirby 64'\n",
    "]\n",
    "\n",
    "recuento_votos = Counter(votos)\n",
    "\n",
    "\n",
    "print(recuento_votos)"
   ]
  },
  {
   "cell_type": "code",
   "execution_count": null,
   "metadata": {},
   "outputs": [],
   "source": []
  }
 ],
 "metadata": {
  "kernelspec": {
   "display_name": "Python 3",
   "language": "python",
   "name": "python3"
  },
  "language_info": {
   "codemirror_mode": {
    "name": "ipython",
    "version": 3
   },
   "file_extension": ".py",
   "mimetype": "text/x-python",
   "name": "python",
   "nbconvert_exporter": "python",
   "pygments_lexer": "ipython3",
   "version": "3.8.5"
  }
 },
 "nbformat": 4,
 "nbformat_minor": 4
}
