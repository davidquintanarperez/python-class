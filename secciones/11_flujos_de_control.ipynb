{
 "cells": [
  {
   "cell_type": "markdown",
   "metadata": {},
   "source": [
    "# Flujos de control\n",
    "> David Quintanar Pérez"
   ]
  },
  {
   "cell_type": "markdown",
   "metadata": {},
   "source": [
    "## if - elif - else"
   ]
  },
  {
   "cell_type": "code",
   "execution_count": null,
   "metadata": {},
   "outputs": [],
   "source": [
    "hora = 9"
   ]
  },
  {
   "cell_type": "code",
   "execution_count": null,
   "metadata": {},
   "outputs": [],
   "source": [
    "if hora <= 9:\n",
    "    print(\"Ve a desayunar\")"
   ]
  },
  {
   "cell_type": "code",
   "execution_count": null,
   "metadata": {},
   "outputs": [],
   "source": [
    "hora = 10\n",
    "if hora <= 9:\n",
    "    print(\"Ve a desayunar\")\n",
    "else:\n",
    "    print(\"Ve a trabajar\")"
   ]
  },
  {
   "cell_type": "code",
   "execution_count": null,
   "metadata": {},
   "outputs": [],
   "source": [
    "hora = 13\n",
    "if hora <= 9:\n",
    "    print(\"Ve a desayunar\")\n",
    "elif hora >= 13 and hora <= 14:\n",
    "    print(\"Ve a comer\")\n",
    "else:\n",
    "    print(\"Ve a trabajar\")"
   ]
  },
  {
   "cell_type": "markdown",
   "metadata": {},
   "source": [
    "## for"
   ]
  },
  {
   "cell_type": "markdown",
   "metadata": {},
   "source": [
    "> ### En listas"
   ]
  },
  {
   "cell_type": "code",
   "execution_count": null,
   "metadata": {},
   "outputs": [],
   "source": [
    "juegos_zelda = [\"ocarina of time\", \"majora's mask\", \"breath of the wild\", \"twilight princess\", \"wind waker\", \"skyward sword\"]\n",
    "for juego in juegos_zelda:\n",
    "    print(juego)"
   ]
  },
  {
   "cell_type": "code",
   "execution_count": null,
   "metadata": {},
   "outputs": [],
   "source": [
    "for numero in range(10):\n",
    "    if numero%2 == 0:\n",
    "        print(numero)"
   ]
  },
  {
   "cell_type": "code",
   "execution_count": null,
   "metadata": {},
   "outputs": [],
   "source": [
    "[numero for numero in range(10) if numero%2 == 0]"
   ]
  },
  {
   "cell_type": "markdown",
   "metadata": {},
   "source": [
    "> ### En diccionarios"
   ]
  },
  {
   "cell_type": "code",
   "execution_count": null,
   "metadata": {},
   "outputs": [],
   "source": [
    "compras_amazon = {\n",
    "    \"echo dot\": 1500,\n",
    "    \"echo show\": 900,\n",
    "    \"kindle\": 1000\n",
    "}"
   ]
  },
  {
   "cell_type": "code",
   "execution_count": null,
   "metadata": {},
   "outputs": [],
   "source": [
    "for producto in compras_amazon:\n",
    "    print(producto)"
   ]
  },
  {
   "cell_type": "code",
   "execution_count": null,
   "metadata": {},
   "outputs": [],
   "source": [
    "for producto, precio in compras_amazon.items():\n",
    "    print(producto + \": $\" + str(precio))"
   ]
  },
  {
   "cell_type": "markdown",
   "metadata": {},
   "source": [
    "> ### En range"
   ]
  },
  {
   "cell_type": "code",
   "execution_count": null,
   "metadata": {},
   "outputs": [],
   "source": [
    "for numero in range(10):\n",
    "    print(numero)"
   ]
  },
  {
   "cell_type": "markdown",
   "metadata": {},
   "source": [
    "## while"
   ]
  },
  {
   "cell_type": "code",
   "execution_count": null,
   "metadata": {},
   "outputs": [],
   "source": [
    "edad = 0\n",
    "while edad < 18:\n",
    "    print(\"{:2} años - Eres menor de edad\".format(edad))\n",
    "    edad += 1\n",
    "    \n",
    "print(\"{} años - Eres mayor de edad\".format(edad))"
   ]
  },
  {
   "cell_type": "markdown",
   "metadata": {},
   "source": [
    "## pass, break, continue"
   ]
  },
  {
   "cell_type": "code",
   "execution_count": null,
   "metadata": {},
   "outputs": [],
   "source": [
    "for numero in range(10):\n",
    "    if numero < 3:\n",
    "        pass\n",
    "    # Incluso si doy enter, no me deja en el mismo identado\n",
    "    \n",
    "print(\"Después de for, número:{}\".format(numero))"
   ]
  },
  {
   "cell_type": "code",
   "execution_count": null,
   "metadata": {},
   "outputs": [],
   "source": [
    "for numero in range(10):\n",
    "    if numero < 3:\n",
    "        break\n",
    "        print(numero)\n",
    "        \n",
    "    print(\"Después de if, número:{}\".format(numero))\n",
    "print(\"Después de for, número:{}\".format(numero))"
   ]
  },
  {
   "cell_type": "code",
   "execution_count": null,
   "metadata": {},
   "outputs": [],
   "source": [
    "for numero in range(10):\n",
    "    if numero < 3:\n",
    "        continue\n",
    "        print(numero)\n",
    "        \n",
    "    print(\"Después de if, número:{}\".format(numero))\n",
    "print(\"Después de for, número:{}\".format(numero))"
   ]
  },
  {
   "cell_type": "markdown",
   "metadata": {},
   "source": [
    "## try-except"
   ]
  },
  {
   "cell_type": "code",
   "execution_count": null,
   "metadata": {},
   "outputs": [],
   "source": [
    "edad = input(\"Edad: \")\n",
    "int(edad)"
   ]
  },
  {
   "cell_type": "code",
   "execution_count": null,
   "metadata": {},
   "outputs": [],
   "source": [
    "type(edad)"
   ]
  },
  {
   "cell_type": "code",
   "execution_count": null,
   "metadata": {},
   "outputs": [],
   "source": [
    "# try-except\n",
    "try:\n",
    "    edad = int(input(\"Edad: \"))\n",
    "except: # Si existe error, no pares el programa y haz esto\n",
    "    print(\"No marco error, no sé si lo hice bien y si hay existe error no sé cuál es\")"
   ]
  },
  {
   "cell_type": "code",
   "execution_count": null,
   "metadata": {},
   "outputs": [],
   "source": [
    "# try-except con guardado de error en variable\n",
    "try:\n",
    "    edad = int(input(\"Edad: \"))\n",
    "except Exception as e: # Como saber que error tengo, lo guardo en una variable\n",
    "    print(\"Error! {}, {}\".format(e, type(e)))"
   ]
  },
  {
   "cell_type": "code",
   "execution_count": null,
   "metadata": {},
   "outputs": [],
   "source": [
    "# try-except con errores específicos\n",
    "try:\n",
    "    edad = int(input(\"Edad: \"))\n",
    "except ValueError:\n",
    "    print(\"Error: el valor {} no se puede convertir a entero\".format(edad)) \n",
    "except Exception as e:\n",
    "    print(\"Error! {}, {}\".format(e, type(e)))"
   ]
  },
  {
   "cell_type": "code",
   "execution_count": null,
   "metadata": {},
   "outputs": [],
   "source": [
    "# try-except con finally. Ejecutar código, independientemente del resultado del try y except.\n",
    "try:\n",
    "    edad = int(input(\"Edad: \"))\n",
    "except ValueError:\n",
    "    print(\"Error: el valor {} no se puede convertir a entero\".format(edad)) \n",
    "except Exception as e:\n",
    "    print(\"Error! {}, {}\".format(e, type(e)))\n",
    "finally:\n",
    "    print(\"Ejecuto independientemente del resultado\")"
   ]
  },
  {
   "cell_type": "code",
   "execution_count": null,
   "metadata": {},
   "outputs": [],
   "source": [
    "# Detener si crees que hay un error y personalizar mensaje\n",
    "x = -1\n",
    "\n",
    "if x < 0:\n",
    "  raise Exception(\"Sorry, no numbers below zero\")"
   ]
  },
  {
   "cell_type": "code",
   "execution_count": null,
   "metadata": {},
   "outputs": [],
   "source": [
    "# Elegir el tipo de error que tendrás y personalizar mensaje\n",
    "x = \"hello\"\n",
    "\n",
    "if not type(x) is int:\n",
    "  raise TypeError(\"Only integers are allowed\")"
   ]
  },
  {
   "cell_type": "code",
   "execution_count": null,
   "metadata": {},
   "outputs": [],
   "source": []
  }
 ],
 "metadata": {
  "kernelspec": {
   "display_name": "Python 3",
   "language": "python",
   "name": "python3"
  },
  "language_info": {
   "codemirror_mode": {
    "name": "ipython",
    "version": 3
   },
   "file_extension": ".py",
   "mimetype": "text/x-python",
   "name": "python",
   "nbconvert_exporter": "python",
   "pygments_lexer": "ipython3",
   "version": "3.8.5"
  }
 },
 "nbformat": 4,
 "nbformat_minor": 4
}
